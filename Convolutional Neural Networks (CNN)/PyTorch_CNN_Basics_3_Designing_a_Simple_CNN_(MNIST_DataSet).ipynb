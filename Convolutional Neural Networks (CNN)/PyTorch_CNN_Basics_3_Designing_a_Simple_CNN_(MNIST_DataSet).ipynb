{
  "nbformat": 4,
  "nbformat_minor": 0,
  "metadata": {
    "colab": {
      "name": "Python CNN Basics 3 - Designing a Simple CNN (MNIST DataSet)",
      "provenance": [],
      "collapsed_sections": []
    },
    "kernelspec": {
      "name": "python3",
      "display_name": "Python 3"
    }
  },
  "cells": [
    {
      "cell_type": "code",
      "metadata": {
        "id": "OJUN8_TCvLSB"
      },
      "source": [
        "import torch\r\n",
        "import torch.nn as nn"
      ],
      "execution_count": 3,
      "outputs": []
    },
    {
      "cell_type": "code",
      "metadata": {
        "id": "0hLhdlayvbaV"
      },
      "source": [
        "# 2 CNN, each followed by ReLU and max pooling, 1 FC layer\r\n",
        "# Each pooling layer will halve both the height and width of the image (1/4th of orig image since 2 layers will be used)\r\n",
        "\r\n",
        "\r\n",
        "\r\n",
        "class Net(nn.Module):\r\n",
        "  #declaring the parameters of your CNN (architecture)\r\n",
        "  def __init__(self,num_classes):\r\n",
        "    super(Net,self).__init__() #inheritance\r\n",
        "\r\n",
        "    #Instantiate the ReLU nonlinearity\r\n",
        "    self.relu = nn.ReLU()\r\n",
        "\r\n",
        "    #Instantiate the two convolutional layers\r\n",
        "    self.conv1 = nn.Conv2d(in_channels = 1, out_channels = 5, kernel_size = 3, padding = 1) #outputs a 5 channel activated convolutions\r\n",
        "    self.conv2 = nn.Conv2d(in_channels = 5, out_channels = 10, kernel_size=3, padding = 1) #outputs a 10 channel activated convolutions\r\n",
        "\r\n",
        "    # Instantiate a max pooling layer\r\n",
        "    self.pool = nn.MaxPool2d(2,2)\r\n",
        "\r\n",
        "    #Instantiate a fully connected layer\r\n",
        "    self.fc = nn.Linear(7*7*10, 10)\r\n",
        "  \r\n",
        "  #declaring your neural net's forward method\r\n",
        "  def forward(self,x):\r\n",
        "    # Apply conv followed by relu, then pooling\r\n",
        "    x = self.relu(self.conv1(x))\r\n",
        "    x = self.pool(x)\r\n",
        "\r\n",
        "    #Apply conv followed by relu, then pooling\r\n",
        "    x = self.relu(self.conv2(x))\r\n",
        "    x = self.pool(x)\r\n",
        "\r\n",
        "    #Prepare the image for the fully connected layer by transforming the feature map from 4 dimensional to 2 dimensional space\r\n",
        "    x = x.view(-1, 7*7*10 )\r\n",
        "\r\n",
        "    #Apply FC layer and return result\r\n",
        "\r\n",
        "    return self.fc(x)\r\n",
        "\r\n",
        "    \r\n",
        "    \r\n",
        "\r\n",
        "  "
      ],
      "execution_count": 4,
      "outputs": []
    },
    {
      "cell_type": "code",
      "metadata": {
        "id": "ttMNqJVRvZIn"
      },
      "source": [
        ""
      ],
      "execution_count": null,
      "outputs": []
    }
  ]
}