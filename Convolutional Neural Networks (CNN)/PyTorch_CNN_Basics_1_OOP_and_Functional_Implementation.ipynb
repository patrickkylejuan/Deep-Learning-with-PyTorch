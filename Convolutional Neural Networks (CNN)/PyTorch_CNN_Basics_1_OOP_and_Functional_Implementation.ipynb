{
  "nbformat": 4,
  "nbformat_minor": 0,
  "metadata": {
    "colab": {
      "name": "PyTorch CNN Basics 1 - OOP and Functional Implementation.ipynb",
      "provenance": [],
      "collapsed_sections": []
    },
    "kernelspec": {
      "name": "python3",
      "display_name": "Python 3"
    }
  },
  "cells": [
    {
      "cell_type": "markdown",
      "metadata": {
        "id": "mdk3FmghIoU2"
      },
      "source": [
        "# PyTorch CNN Basics"
      ]
    },
    {
      "cell_type": "markdown",
      "metadata": {
        "id": "bASXRLJHIs7u"
      },
      "source": [
        "## Convolution operator - OOP way"
      ]
    },
    {
      "cell_type": "markdown",
      "metadata": {
        "id": "BxBHDu8qJxIs"
      },
      "source": [
        "Here, we demo the OOP way of building CNN using PyTorch torch.nn. \r\n",
        "\r\n",
        "Parameter meanings:\r\n",
        "\r\n",
        "\r\n",
        "* in_channels (int) – Number of channels in the input image\r\n",
        "* out_channels (int) – Number of channels produced by the convolution\r\n",
        "* kernel_size (int or tuple) – Size of the convolving kernel\r\n",
        "* stride (int or tuple, optional) – Stride of the convolution. (Default: 1)\r\n",
        "* padding (int or tuple, optional) – Zero-padding added to both sides of the input (Default: 0)\r\n",
        "\r\n"
      ]
    },
    {
      "cell_type": "code",
      "metadata": {
        "id": "iJ4i9NrJImtq"
      },
      "source": [
        "import torch\r\n",
        "import torch.nn "
      ],
      "execution_count": null,
      "outputs": []
    },
    {
      "cell_type": "markdown",
      "metadata": {
        "id": "fjmM5A_wKQLA"
      },
      "source": [
        "This creates 10 random images with shape (1,28,28), build 6 CNN filters of size (3,3) with stride = 1 and padding = 1 and generates a feature map"
      ]
    },
    {
      "cell_type": "code",
      "metadata": {
        "id": "46M5wi1uI0iI"
      },
      "source": [
        "# Create 10 random images of shape (1, 28, 28)\r\n",
        "images = torch.rand(10, 1, 28, 28) \r\n",
        "\r\n",
        "# Build 6 conv. filters\r\n",
        "conv_filters = torch.nn.Conv2d(in_channels=1, out_channels=6, kernel_size=3, stride=1, padding=1)\r\n",
        "\r\n",
        "# Convolve the image with the filters \r\n",
        "output_feature = conv_filters(images)\r\n",
        "print(output_feature.shape)"
      ],
      "execution_count": null,
      "outputs": []
    },
    {
      "cell_type": "markdown",
      "metadata": {
        "id": "Nngt6ghKN1BJ"
      },
      "source": [
        "Now let's try building a pooling layer"
      ]
    },
    {
      "cell_type": "code",
      "metadata": {
        "id": "HQqpr7bXN7Et"
      },
      "source": [
        "# Build a pooling operator with size `2`.\r\n",
        "max_pooling = torch.nn.MaxPool2d(2)\r\n",
        "avg_pooling = torch.nn.AvgPool2d(2)\r\n",
        "\r\n",
        "# Apply the pooling operator\r\n",
        "output_feature = max_pooling(images)\r\n",
        "\r\n",
        "# print the result\r\n",
        "print(output_feature)\r\n"
      ],
      "execution_count": null,
      "outputs": []
    },
    {
      "cell_type": "markdown",
      "metadata": {
        "id": "gybKdM7oKnge"
      },
      "source": [
        "## Convolution operator - Functional way"
      ]
    },
    {
      "cell_type": "code",
      "metadata": {
        "id": "zy0Jd_OpLIQz"
      },
      "source": [
        "import torch.nn.functional as F "
      ],
      "execution_count": null,
      "outputs": []
    },
    {
      "cell_type": "code",
      "metadata": {
        "id": "lSo_t50OLIJp"
      },
      "source": [
        "# Create 10 random images\r\n",
        "image = torch.rand(10, 1, 28, 28)\r\n",
        "\r\n",
        "# Create 6 filters\r\n",
        "filters = torch.rand(6, 1, 3, 3)\r\n",
        "\r\n",
        "# Convolve the image with the filters\r\n",
        "output_feature = F.conv2d(image, filters, stride =1, padding=1)\r\n",
        "print(output_feature.shape)"
      ],
      "execution_count": null,
      "outputs": []
    },
    {
      "cell_type": "code",
      "metadata": {
        "id": "xGeZpBSSOPhU"
      },
      "source": [
        "\r\n",
        "# Use pooling operator in the image (size 2)\r\n",
        "output_feature_F = F.max_pool2d(images,2)\r\n",
        "output_feature_F_ave = F.avg_pool2d(images,2)\r\n",
        "\r\n",
        "# print the result\r\n",
        "print(output_feature_F)"
      ],
      "execution_count": null,
      "outputs": []
    }
  ]
}