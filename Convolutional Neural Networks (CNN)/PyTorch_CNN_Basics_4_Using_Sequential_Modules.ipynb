{
  "nbformat": 4,
  "nbformat_minor": 0,
  "metadata": {
    "colab": {
      "name": "PyTorch CNN Basics 4 - Using Sequential Modules.ipynb",
      "provenance": []
    },
    "kernelspec": {
      "name": "python3",
      "display_name": "Python 3"
    }
  },
  "cells": [
    {
      "cell_type": "markdown",
      "metadata": {
        "id": "r9d2VER4o0M0"
      },
      "source": [
        "Sequential modules from PyTorch allows us to approach cnn building in a more OOP-oriented manner which allows us to easily debug and independently modify/calibrate the CNN components. In this exercise, I attempt to convert a non sequential module implementation of a CNN to one that uses the Sequential module."
      ]
    },
    {
      "cell_type": "code",
      "metadata": {
        "id": "KAg4PZNkppyr"
      },
      "source": [
        "import torch\r\n",
        "import torch.nn as nn"
      ],
      "execution_count": 1,
      "outputs": []
    },
    {
      "cell_type": "code",
      "metadata": {
        "id": "iNCjhLPCpjl5"
      },
      "source": [
        "# Traditional implementation\r\n",
        "\r\n",
        "class Net(nn.Module):\r\n",
        "    def __init__(self, num_classes):\r\n",
        "        super(Net, self).__init__()\r\n",
        "\r\n",
        "        self.conv1 = nn.Conv2d(in_channels=1, out_channels=5, kernel_size=3, padding=1)\r\n",
        "        self.conv2 = nn.Conv2d(in_channels=5, out_channels=10, kernel_size=3, padding=1)\r\n",
        "        self.conv3 = nn.Conv2d(in_channels=10, out_channels=20, kernel_size=3, padding=1)\r\n",
        "        self.conv4 = nn.Conv2d(in_channels=20, out_channels=40, kernel_size=3, padding=1)\r\n",
        "\r\n",
        "        self.relu = nn.ReLU()\r\n",
        "\r\n",
        "        self.pool = nn.MaxPool2d(2, 2)\r\n",
        "\r\n",
        "        self.fc1 = nn.Linear(7 * 7 * 40, 1024)\r\n",
        "        self.fc2 = nn.Linear(1024, 2048)\r\n",
        "        self.fc3 = nn.Linear(2048, 10) \r\n",
        "\r\n",
        "    def forward():\r\n",
        "        x = self.relu(self.conv1(x))\r\n",
        "        x = self.relu(self.pool(self.conv2(x)))\r\n",
        "        x = self.relu(self.conv3(x))\r\n",
        "        x = self.relu(self.pool(self.conv4(x)))\r\n",
        "        x = x.view(-1, 7 * 7 * 40)\r\n",
        "        x = self.relu(self.fc1(x))\r\n",
        "        x = self.relu(self.fc2(x))\r\n",
        "        x = self.fc3(x)\r\n",
        "        return x"
      ],
      "execution_count": 2,
      "outputs": []
    },
    {
      "cell_type": "code",
      "metadata": {
        "id": "7A3T4wi-iYY7"
      },
      "source": [
        "#sequential implementation\r\n",
        "\r\n",
        "class Net(nn.Module):\r\n",
        "    def __init__(self):\r\n",
        "        super(Net, self).__init__()\r\n",
        "        \r\n",
        "        # Declare all the layers for feature extraction\r\n",
        "        self.features = nn.Sequential(nn.Conv2d(in_channels=1, out_channels=5, kernel_size=3, padding=1), \r\n",
        "                                      nn.ReLU(inplace=True),\r\n",
        "                                      nn.Conv2d(in_channels=5, out_channels=10, kernel_size=3, padding=1), \r\n",
        "                                      nn.MaxPool2d(2, 2), nn.ReLU(inplace=True),\r\n",
        "                                      nn.Conv2d(in_channels=10, out_channels=20, kernel_size=3, padding=1),\r\n",
        "                                      nn.ReLU(inplace=True),\r\n",
        "                                      nn.Conv2d(in_channels=20, out_channels=40, kernel_size=3, padding=1),\r\n",
        "                                      nn.MaxPool2d(2, 2), nn.ReLU(inplace=True))\r\n",
        "        \r\n",
        "        # Declare all the layers for classification\r\n",
        "        self.classifier = nn.Sequential(nn.Linear(7 * 7 * 40, 1024), nn.ReLU(inplace=True),\r\n",
        "                                       \tnn.Linear(1024, 2048), nn.ReLU(inplace=True),\r\n",
        "                                        nn.Linear(2048, 10))\r\n",
        "        \r\n",
        "    def forward(self, x):\r\n",
        "      \r\n",
        "        # Apply the feature extractor in the input\r\n",
        "        x = self.features(x)\r\n",
        "        \r\n",
        "        # Squeeze the three spatial dimensions in one\r\n",
        "        x = x.view(-1, 7 * 7 * 40)\r\n",
        "        \r\n",
        "        # Classify the images\r\n",
        "        x = self.classifier(x)\r\n",
        "        return x"
      ],
      "execution_count": 3,
      "outputs": []
    },
    {
      "cell_type": "code",
      "metadata": {
        "id": "VtIfyYU7pvM2"
      },
      "source": [
        ""
      ],
      "execution_count": null,
      "outputs": []
    }
  ]
}