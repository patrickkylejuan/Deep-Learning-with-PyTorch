{
  "nbformat": 4,
  "nbformat_minor": 0,
  "metadata": {
    "colab": {
      "name": "PyTorch CNN Basics 2 - AlexNet PyTorch Implementation",
      "provenance": [],
      "collapsed_sections": []
    },
    "kernelspec": {
      "name": "python3",
      "display_name": "Python 3"
    }
  },
  "cells": [
    {
      "cell_type": "code",
      "metadata": {
        "id": "Qc3pHu8eQR3i"
      },
      "source": [
        "import torch\r\n",
        "import torch.nn"
      ],
      "execution_count": null,
      "outputs": []
    },
    {
      "cell_type": "code",
      "metadata": {
        "id": "5Y4Ud2IUQH9g"
      },
      "source": [
        "# building the classic AlexNet in PyTorch - has 5 conv layers, 3 max pooling and an ave pooling layer, \r\n",
        "# and in the end, it has 3 fully connected layers (last of which classifies images in 1000 diff classes)\r\n",
        "\r\n",
        "class AlexNet(nn.Module):\r\n",
        "\r\n",
        "  def __init__(self, num_classes = 1000):\r\n",
        "    super(AlexNet, self).__init__() #super operator used for inheritance i.e. inherits above AlexNet\r\n",
        "    self.conv1 = nn.Conv2d (3, 64, kernel_size = 11, stride = 4, padding = 2)\r\n",
        "    self.relu = nn.ReLu(inplace=True) # defined only once\r\n",
        "    self.maxpool = nn.MaxPool2d(kernel_size = 3, stride = 2) #defined only once because similar dimensions are used\r\n",
        "    self.conv2 = nn.Conv2d(64, 192, kernel_size = 5, padding = 2)\r\n",
        "    self.conv3 = nn.Conv2d(192, 384, kernel_size = 3, padding = 1)\r\n",
        "    self.conv4 = nn.Conv2d(384, 256, kernel_size = 3, padding = 1)\r\n",
        "    self.conv5 = nn.Conv2d(256, 256, kernel_size = 3, padding = 1)\r\n",
        "    self.avgpool = nn.AdaptiveAvgPool2d((6,6))\r\n",
        "    self.fc1 = nn.Linear(256 * 6 * 6, 4096)\r\n",
        "    self.fc2 = nn.Linear(4096, 4096)\r\n",
        "    self.fc3 = nn.Linear(4096, num_classes)\r\n"
      ],
      "execution_count": null,
      "outputs": []
    },
    {
      "cell_type": "code",
      "metadata": {
        "id": "OqppptUaSent"
      },
      "source": [
        "# implementing the forward method (basically how the alexnet is connected in OOP code form)\r\n",
        "\r\n",
        "def forward(self, x):\r\n",
        "  x = self.relu(self.conv1(x))\r\n",
        "  x = self.maxpool(x)\r\n",
        "  x = self.relu(self.conv2(x))\r\n",
        "  x = self.maxpool(x)\r\n",
        "  x = self.relu(self.conv3(x))\r\n",
        "  x = self.relu(self.conv4(x))\r\n",
        "  x = self.relu(self.conv5(x))\r\n",
        "  x = self.maxpool(x)\r\n",
        "  x = self.avgpool(x)\r\n",
        "  x = x.view(x.size(0), 256*6*6)\r\n",
        "  x = self.relu(self.fc1(x))\r\n",
        "  x = self.relu(self.fc2(x))\r\n",
        "  return self.fc3(x) #net returns the predicted class for each image we will pass to it\r\n",
        "\r\n",
        "  net = AlexNet()\r\n"
      ],
      "execution_count": null,
      "outputs": []
    },
    {
      "cell_type": "code",
      "metadata": {
        "id": "uDi_saeyTMWP"
      },
      "source": [
        ""
      ],
      "execution_count": null,
      "outputs": []
    }
  ]
}